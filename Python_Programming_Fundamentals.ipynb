{
  "cells": [
    {
      "cell_type": "code",
      "source": [
        "print(\"\"\"\n",
        " █████╗ ███╗   ██╗██╗███████╗██╗  ██╗\n",
        "██╔══██╗████╗  ██║██║██╔════╝██║  ██║\n",
        "███████║██╔██╗ ██║██║███████╗███████║\n",
        "██╔══██║██║╚██╗██║██║╚════██║██╔══██║\n",
        "██║  ██║██║ ╚████║██║███████║██║  ██║\n",
        "╚═╝  ╚═╝╚═╝  ╚═══╝╚═╝╚══════╝╚═╝  ╚═╝\n",
        "\n",
        "██╗███████╗     █████╗     ███████╗███╗   ███╗ ██████╗  ██████╗ ████████╗██╗  ██╗\n",
        "██║██╔════╝    ██╔══██╗    ██╔════╝████╗ ████║██╔═══██╗██╔═══██╗╚══██╔══╝██║  ██║\n",
        "██║███████╗    ███████║    ███████╗██╔████╔██║██║   ██║██║   ██║   ██║   ███████║\n",
        "██║╚════██║    ██╔══██║    ╚════██║██║╚██╔╝██║██║   ██║██║   ██║   ██║   ██╔══██║\n",
        "██║███████║    ██║  ██║    ███████║██║ ╚═╝ ██║╚██████╔╝╚██████╔╝   ██║   ██║  ██║\n",
        "╚═╝╚══════╝    ╚═╝  ╚═╝    ╚══════╝╚═╝     ╚═╝ ╚═════╝  ╚═════╝    ╚═╝   ╚═╝  ╚═╝\n",
        "\n",
        " ██████╗ ██████╗ ███████╗██████╗  █████╗ ████████╗ ██████╗ ██████╗\n",
        "██╔═══██╗██╔══██╗██╔════╝██╔══██╗██╔══██╗╚══██╔══╝██╔═══██╗██╔══██╗\n",
        "██║   ██║██████╔╝█████╗  ██████╔╝███████║   ██║   ██║   ██║██████╔╝\n",
        "██║   ██║██╔═══╝ ██╔══╝  ██╔══██╗██╔══██║   ██║   ██║   ██║██╔══██╗\n",
        "╚██████╔╝██║     ███████╗██║  ██║██║  ██║   ██║   ╚██████╔╝██║  ██║\n",
        " ╚═════╝ ╚═╝     ╚══════╝╚═╝  ╚═╝╚═╝  ╚═╝   ╚═╝    ╚═════╝ ╚═╝  ╚═╝\n",
        "\"\"\")"
      ],
      "metadata": {
        "id": "J29WSpGLotTy"
      },
      "id": "J29WSpGLotTy",
      "execution_count": null,
      "outputs": []
    },
    {
      "cell_type": "markdown",
      "source": [
        "Data Types & Strings\n",
        "\n",
        "Variables and Dynamic Typing\n",
        "\n",
        "Python uses dynamic typing, which means you don't need to declare a variable's type - it's determined automatically when you assign a value."
      ],
      "metadata": {
        "id": "LRFFZ5gvdGso"
      },
      "id": "LRFFZ5gvdGso"
    },
    {
      "cell_type": "code",
      "source": [
        "# Variable assignment\n",
        "name = \"Alice\"    # String\n",
        "age = 25          # Integer\n",
        "height = 5.7      # Float\n",
        "is_student = True # Boolean\n",
        "\n",
        "# Python's dynamic typing lets you change types\n",
        "x = 10            # x is an integer\n",
        "x = \"hello\"       # Now x is a string"
      ],
      "metadata": {
        "id": "Hvjx0od8dHiD"
      },
      "id": "Hvjx0od8dHiD",
      "execution_count": 28,
      "outputs": []
    },
    {
      "cell_type": "markdown",
      "source": [
        "Fundamental Data Types\n",
        "\n",
        "Python has several built-in data types:\n",
        "\n",
        "Numeric types: int, float, complex\n",
        "\n",
        "Text type: str\n",
        "\n",
        "Boolean type: bool\n",
        "\n",
        "Sequence types: list, tuple, range\n",
        "\n",
        "Mapping type: dict\n",
        "\n",
        "Set types: set, frozenset"
      ],
      "metadata": {
        "id": "LX1ftq0KdKPm"
      },
      "id": "LX1ftq0KdKPm"
    },
    {
      "cell_type": "markdown",
      "source": [
        "String Operations"
      ],
      "metadata": {
        "id": "nSlxJDzAdcpi"
      },
      "id": "nSlxJDzAdcpi"
    },
    {
      "cell_type": "code",
      "source": [
        "# String creation\n",
        "greeting = \"Hello, World!\"\n",
        "\n",
        "# Accessing characters (indexing)\n",
        "first_char = greeting[0]  # 'H'\n",
        "last_char = greeting[-1]  # '!'\n",
        "\n",
        "# Slicing\n",
        "substring = greeting[0:5]  # 'Hello'\n",
        "\n",
        "# String methods\n",
        "lowercase = greeting.lower()  # 'hello, world!'\n",
        "uppercase = greeting.upper()  # 'HELLO, WORLD!'\n",
        "replaced = greeting.replace(\"Hello\", \"Hi\")  # 'Hi, World!'\n",
        "\n",
        "# String concatenation\n",
        "name = \"Alice\"\n",
        "message = greeting + \" My name is \" + name  # 'Hello, World! My name is Alice'"
      ],
      "metadata": {
        "id": "D4aZlfkTdNmm"
      },
      "id": "D4aZlfkTdNmm",
      "execution_count": 29,
      "outputs": []
    },
    {
      "cell_type": "markdown",
      "source": [
        "String Formatting"
      ],
      "metadata": {
        "id": "M_LaXCD9dqwc"
      },
      "id": "M_LaXCD9dqwc"
    },
    {
      "cell_type": "code",
      "source": [
        "name = \"Alice\"\n",
        "age = 25\n",
        "\n",
        "# Using f-strings (Python 3.6+)\n",
        "message = f\"Hello, my name is {name} and I am {age} years old.\"\n",
        "\n",
        "# Using .format()\n",
        "message = \"Hello, my name is {} and I am {} years old.\".format(name, age)\n",
        "\n",
        "# Using % operator (older style)\n",
        "message = \"Hello, my name is %s and I am %d years old.\" % (name, age)"
      ],
      "metadata": {
        "id": "UH8FLfMLdsHP"
      },
      "id": "UH8FLfMLdsHP",
      "execution_count": 30,
      "outputs": []
    },
    {
      "cell_type": "markdown",
      "source": [
        "### Lists & Tuples\n",
        "\n",
        "Lists\n",
        "\n",
        "Lists are ordered, mutable collections that can store mixed data types."
      ],
      "metadata": {
        "id": "cJzb2_Qldvc4"
      },
      "id": "cJzb2_Qldvc4"
    },
    {
      "cell_type": "code",
      "source": [
        "# Creating lists\n",
        "empty_list = []\n",
        "numbers = [1, 2, 3, 4, 5]\n",
        "mixed = [1, \"hello\", 3.14, True]\n",
        "\n",
        "# Accessing elements (indexing)\n",
        "first_item = numbers[0]  # 1\n",
        "last_item = numbers[-1]  # 5\n",
        "\n",
        "# Slicing\n",
        "subset = numbers[1:4]  # [2, 3, 4]\n",
        "\n",
        "# Modifying lists\n",
        "numbers.append(6)      # Add to end: [1, 2, 3, 4, 5, 6]\n",
        "numbers.insert(0, 0)   # Insert at index: [0, 1, 2, 3, 4, 5, 6]\n",
        "numbers.remove(3)      # Remove first occurrence: [0, 1, 2, 4, 5, 6]\n",
        "popped = numbers.pop() # Remove & return last item: 6, numbers becomes [0, 1, 2, 4, 5]\n",
        "numbers[0] = 10        # Modify element: [10, 1, 2, 4, 5]\n",
        "\n",
        "# List concatenation\n",
        "combined = numbers + [6, 7, 8]  # [10, 1, 2, 4, 5, 6, 7, 8]\n",
        "\n",
        "# List comprehensions\n",
        "squares = [x**2 for x in range(5)]  # [0, 1, 4, 9, 16]"
      ],
      "metadata": {
        "id": "J5JAPrlpd0N5"
      },
      "id": "J5JAPrlpd0N5",
      "execution_count": 31,
      "outputs": []
    },
    {
      "cell_type": "markdown",
      "source": [
        "List Methods"
      ],
      "metadata": {
        "id": "4qeZsXmreApT"
      },
      "id": "4qeZsXmreApT"
    },
    {
      "cell_type": "code",
      "source": [
        "colors = [\"red\", \"green\", \"blue\", \"yellow\"]\n",
        "\n",
        "# Common list methods\n",
        "colors.sort()                  # Sort in-place: [\"blue\", \"green\", \"red\", \"yellow\"]\n",
        "colors.reverse()               # Reverse in-place: [\"yellow\", \"red\", \"green\", \"blue\"]\n",
        "position = colors.index(\"red\") # Find index of item: 1\n",
        "count = colors.count(\"red\")    # Count occurrences: 1\n",
        "colors.extend([\"orange\", \"purple\"])  # Add multiple items\n",
        "colors.clear()                 # Remove all items"
      ],
      "metadata": {
        "id": "gWsoWK_Pd_hH"
      },
      "id": "gWsoWK_Pd_hH",
      "execution_count": 32,
      "outputs": []
    },
    {
      "cell_type": "markdown",
      "source": [
        "Sorting Lists"
      ],
      "metadata": {
        "id": "3t2K8ZDzeIQE"
      },
      "id": "3t2K8ZDzeIQE"
    },
    {
      "cell_type": "code",
      "source": [
        "numbers = [3, 1, 4, 1, 5, 9, 2]\n",
        "\n",
        "# Simple sorting\n",
        "numbers.sort()               # In-place sort: [1, 1, 2, 3, 4, 5, 9]\n",
        "sorted_numbers = sorted(numbers)  # Returns new sorted list\n",
        "\n",
        "# Reverse sorting\n",
        "numbers.sort(reverse=True)   # In-place reverse sort: [9, 5, 4, 3, 2, 1, 1]\n",
        "sorted_numbers = sorted(numbers, reverse=True)\n",
        "\n",
        "# Custom sorting with key function\n",
        "words = [\"apple\", \"Banana\", \"cherry\", \"Date\"]\n",
        "words.sort(key=str.lower)    # Case-insensitive sort: [\"apple\", \"Banana\", \"cherry\", \"Date\"]\n",
        "\n",
        "# Sorting objects by attribute\n",
        "class Person:\n",
        "    def __init__(self, name, age):\n",
        "        self.name = name\n",
        "        self.age = age\n",
        "\n",
        "people = [Person(\"Alice\", 25), Person(\"Bob\", 20), Person(\"Charlie\", 30)]\n",
        "people.sort(key=lambda person: person.age)  # Sort by age"
      ],
      "metadata": {
        "id": "QQH7hyWZeFF2"
      },
      "id": "QQH7hyWZeFF2",
      "execution_count": 33,
      "outputs": []
    },
    {
      "cell_type": "markdown",
      "source": [
        "Tuples\n",
        "\n",
        "Tuples are ordered, immutable collections."
      ],
      "metadata": {
        "id": "F3IUNaYIeMat"
      },
      "id": "F3IUNaYIeMat"
    },
    {
      "cell_type": "code",
      "source": [
        "# Creating tuples\n",
        "empty_tuple = ()\n",
        "single_item = (1,)  # Note the comma\n",
        "coordinates = (10, 20)\n",
        "mixed_tuple = (1, \"hello\", 3.14)\n",
        "\n",
        "# Accessing elements (same as lists)\n",
        "x = coordinates[0]  # 10\n",
        "y = coordinates[1]  # 20\n",
        "\n",
        "# Tuple unpacking\n",
        "x, y = coordinates  # x = 10, y = 20\n",
        "\n",
        "# Tuples are immutable\n",
        "# coordinates[0] = 5  # This raises TypeError\n",
        "\n",
        "# Tuple methods (limited due to immutability)\n",
        "count = mixed_tuple.count(\"hello\")  # 1\n",
        "index = mixed_tuple.index(3.14)     # 2"
      ],
      "metadata": {
        "id": "mkBqfCUSeSZj"
      },
      "id": "mkBqfCUSeSZj",
      "execution_count": 34,
      "outputs": []
    },
    {
      "cell_type": "markdown",
      "source": [
        "Tuple Packing/Unpacking"
      ],
      "metadata": {
        "id": "sjRSwjgieVdV"
      },
      "id": "sjRSwjgieVdV"
    },
    {
      "cell_type": "code",
      "source": [
        "# Packing\n",
        "person = (\"Alice\", 25, \"Engineer\")\n",
        "\n",
        "# Unpacking\n",
        "name, age, occupation = person  # name = \"Alice\", age = 25, occupation = \"Engineer\"\n",
        "\n",
        "# Extended unpacking (Python 3+)\n",
        "first, *rest = [1, 2, 3, 4, 5]  # first = 1, rest = [2, 3, 4, 5]\n",
        "*beginning, last = [1, 2, 3, 4, 5]  # beginning = [1, 2, 3, 4], last = 5\n",
        "first, *middle, last = [1, 2, 3, 4, 5]  # first = 1, middle = [2, 3, 4], last = 5\n",
        "\n",
        "# Swapping variables\n",
        "a, b = 1, 2\n",
        "a, b = b, a  # Now a = 2, b = 1"
      ],
      "metadata": {
        "id": "lReEwRpKeY3l"
      },
      "id": "lReEwRpKeY3l",
      "execution_count": 35,
      "outputs": []
    },
    {
      "cell_type": "markdown",
      "source": [
        "### Dictionaries & Sets\n",
        "\n",
        "Dictionaries\n",
        "\n",
        "Dictionaries are mutable collections of key-value pairs."
      ],
      "metadata": {
        "id": "Jp8_SjtFenlg"
      },
      "id": "Jp8_SjtFenlg"
    },
    {
      "cell_type": "code",
      "source": [
        "# Creating dictionaries\n",
        "empty_dict = {}\n",
        "person = {\"name\": \"Alice\", \"age\": 25, \"city\": \"New York\"}\n",
        "grades = dict(Alice=95, Bob=82, Charlie=90)  # Alternative creation\n",
        "\n",
        "# Accessing values\n",
        "name = person[\"name\"]  # \"Alice\"\n",
        "# Using get() with default (safer if key might not exist)\n",
        "job = person.get(\"job\", \"Unknown\")  # \"Unknown\" (key doesn't exist)\n",
        "\n",
        "# Modifying dictionaries\n",
        "person[\"email\"] = \"alice@example.com\"  # Add new key-value pair\n",
        "person[\"age\"] = 26  # Modify existing value\n",
        "del person[\"city\"]  # Remove a key-value pair\n",
        "\n",
        "# Dictionary methods\n",
        "keys = person.keys()  # dict_keys(['name', 'age', 'email'])\n",
        "values = person.values()  # dict_values(['Alice', 26, 'alice@example.com'])\n",
        "items = person.items()  # dict_items([('name', 'Alice'), ('age', 26), ('email', 'alice@example.com')])\n",
        "\n",
        "# Dictionary comprehensions\n",
        "squares = {x: x**2 for x in range(5)}  # {0: 0, 1: 1, 2: 4, 3: 9, 4: 16}"
      ],
      "metadata": {
        "id": "9nikdAfTemSh"
      },
      "id": "9nikdAfTemSh",
      "execution_count": 36,
      "outputs": []
    },
    {
      "cell_type": "markdown",
      "source": [
        "Sets\n",
        "\n",
        "Sets are unordered collections of unique elements."
      ],
      "metadata": {
        "id": "u22SChhHezNw"
      },
      "id": "u22SChhHezNw"
    },
    {
      "cell_type": "code",
      "source": [
        "# Creating sets\n",
        "empty_set = set()  # Note: {} creates an empty dictionary, not a set\n",
        "numbers = {1, 2, 3, 4, 5}\n",
        "text_set = set(\"hello\")  # {'h', 'e', 'l', 'o'} (note: only one 'l')\n",
        "\n",
        "# Set operations\n",
        "numbers.add(6)       # Add element\n",
        "numbers.remove(3)    # Remove element (raises KeyError if not found)\n",
        "numbers.discard(10)  # Remove if present (no error if not found)\n",
        "popped = numbers.pop()  # Remove and return arbitrary element\n",
        "\n",
        "# Set operations (mathematical)\n",
        "a = {1, 2, 3, 4}\n",
        "b = {3, 4, 5, 6}\n",
        "\n",
        "union = a | b        # Union: {1, 2, 3, 4, 5, 6}\n",
        "intersection = a & b # Intersection: {3, 4}\n",
        "difference = a - b   # Difference: {1, 2}\n",
        "sym_diff = a ^ b     # Symmetric difference: {1, 2, 5, 6}\n",
        "\n",
        "# Set comprehensions\n",
        "even_squares = {x**2 for x in range(10) if x % 2 == 0}  # {0, 4, 16, 36, 64}"
      ],
      "metadata": {
        "id": "SbUbM3U2eyBI"
      },
      "id": "SbUbM3U2eyBI",
      "execution_count": 37,
      "outputs": []
    },
    {
      "cell_type": "markdown",
      "source": [
        "When to use each structure:\n",
        "\n",
        "Lists - ordered collection of items, can contain duplicates\n",
        "\n",
        "Use when: Order matters, items may repeat, need to modify collection\n",
        "\n",
        "Tuples - immutable ordered collection\n",
        "\n",
        "Use when: Data shouldn't change, returning multiple values from functions\n",
        "\n",
        "Dictionaries - key-value pairs\n",
        "\n",
        "Use when: Looking up values by a unique key, fast access by key\n",
        "\n",
        "Sets - unique unordered elements\n",
        "\n",
        "Use when: Need to ensure uniqueness, performing set operations\n",
        "\n",
        "Performance comparison:\n",
        "\n",
        "- Checking membership: sets and dictionaries (O(1)) are faster than lists/tuples (O(n))\n",
        "\n",
        "- Ordered data: lists and tuples maintain order, sets don't\n",
        "\n",
        "- Memory usage: tuples use less memory than lists"
      ],
      "metadata": {
        "id": "FMKwGTtMe7eJ"
      },
      "id": "FMKwGTtMe7eJ"
    },
    {
      "cell_type": "markdown",
      "source": [
        "### Conditionals\n",
        "\n",
        "Basic Conditionals"
      ],
      "metadata": {
        "id": "Mzlb9jSjfQHH"
      },
      "id": "Mzlb9jSjfQHH"
    },
    {
      "cell_type": "code",
      "source": [
        "age = 18\n",
        "\n",
        "# Simple if statement\n",
        "if age >= 18:\n",
        "    print(\"You are an adult\")\n",
        "\n",
        "# if-else statement\n",
        "if age >= 18:\n",
        "    print(\"You are an adult\")\n",
        "else:\n",
        "    print(\"You are a minor\")\n",
        "\n",
        "# if-elif-else chain\n",
        "if age < 13:\n",
        "    print(\"You are a child\")\n",
        "elif age < 18:\n",
        "    print(\"You are a teenager\")\n",
        "elif age < 65:\n",
        "    print(\"You are an adult\")\n",
        "else:\n",
        "    print(\"You are a senior\")"
      ],
      "metadata": {
        "id": "7TBIyvKde3Sp"
      },
      "id": "7TBIyvKde3Sp",
      "execution_count": null,
      "outputs": []
    },
    {
      "cell_type": "markdown",
      "source": [
        "Logical Operators"
      ],
      "metadata": {
        "id": "yCyE2OTffr9D"
      },
      "id": "yCyE2OTffr9D"
    },
    {
      "cell_type": "code",
      "source": [
        "age = 25\n",
        "income = 50000\n",
        "\n",
        "# and - both conditions must be true\n",
        "if age >= 18 and income >= 30000:\n",
        "    print(\"You qualify for a loan\")\n",
        "\n",
        "# or - at least one condition must be true\n",
        "if age < 18 or income < 30000:\n",
        "    print(\"You don't qualify for a loan\")\n",
        "\n",
        "# not - inverts a condition\n",
        "if not (age < 18):\n",
        "    print(\"You are not a minor\")\n",
        "\n",
        "# Combining logical operators\n",
        "if (age >= 18 and income >= 30000) or (age >= 25 and income >= 20000):\n",
        "    print(\"You qualify for a loan\")"
      ],
      "metadata": {
        "id": "GKbyf_nEfrJv"
      },
      "id": "GKbyf_nEfrJv",
      "execution_count": null,
      "outputs": []
    },
    {
      "cell_type": "markdown",
      "source": [
        "Nested Conditions"
      ],
      "metadata": {
        "id": "7aTnMdLpgJs2"
      },
      "id": "7aTnMdLpgJs2"
    },
    {
      "cell_type": "code",
      "source": [
        "age = 25\n",
        "income = 50000\n",
        "credit_score = 700\n",
        "\n",
        "if age >= 18:\n",
        "    if income >= 30000:\n",
        "        if credit_score >= 700:\n",
        "            print(\"You qualify for a premium loan\")\n",
        "        else:\n",
        "            print(\"You qualify for a standard loan\")\n",
        "    else:\n",
        "        print(\"Income too low for a loan\")\n",
        "else:\n",
        "    print(\"Age requirement not met\")\n",
        "\n",
        "# Better approach (flatter)\n",
        "if age < 18:\n",
        "    print(\"Age requirement not met\")\n",
        "elif income < 30000:\n",
        "    print(\"Income too low for a loan\")\n",
        "elif credit_score < 700:\n",
        "    print(\"You qualify for a standard loan\")\n",
        "else:\n",
        "    print(\"You qualify for a premium loan\")"
      ],
      "metadata": {
        "id": "COg44UKSgHE8"
      },
      "id": "COg44UKSgHE8",
      "execution_count": null,
      "outputs": []
    },
    {
      "cell_type": "markdown",
      "source": [
        "Conditional Expressions (Ternary Operator)"
      ],
      "metadata": {
        "id": "8I65TFc5gMOR"
      },
      "id": "8I65TFc5gMOR"
    },
    {
      "cell_type": "code",
      "source": [
        "age = 20\n",
        "status = \"adult\" if age >= 18 else \"minor\"\n",
        "\n",
        "# Equivalent to:\n",
        "# if age >= 18:\n",
        "#     status = \"adult\"\n",
        "# else:\n",
        "#     status = \"minor\""
      ],
      "metadata": {
        "id": "oEXSzjs1gPiH"
      },
      "id": "oEXSzjs1gPiH",
      "execution_count": 41,
      "outputs": []
    },
    {
      "cell_type": "markdown",
      "source": [
        "### Loops & Control Flow\n",
        "\n",
        "For Loops"
      ],
      "metadata": {
        "id": "ptW2P8a0gfe7"
      },
      "id": "ptW2P8a0gfe7"
    },
    {
      "cell_type": "markdown",
      "source": [
        "For loops iterate over a sequence (list, tuple, string, etc.):"
      ],
      "metadata": {
        "id": "wpAm7mX4gmf8"
      },
      "id": "wpAm7mX4gmf8"
    },
    {
      "cell_type": "code",
      "source": [
        "# Iterating over a list\n",
        "fruits = [\"apple\", \"banana\", \"cherry\"]\n",
        "for fruit in fruits:\n",
        "    print(fruit)\n",
        "\n",
        "# Iterating over a string\n",
        "for char in \"Python\":\n",
        "    print(char)\n",
        "\n",
        "# Iterating over a range\n",
        "for i in range(5):  # 0, 1, 2, 3, 4\n",
        "    print(i)\n",
        "\n",
        "# range with start, stop, step\n",
        "for i in range(2, 10, 2):  # 2, 4, 6, 8\n",
        "    print(i)\n",
        "\n",
        "# Iterating with index using enumerate\n",
        "for index, fruit in enumerate(fruits):\n",
        "    print(f\"{index}: {fruit}\")\n",
        "\n",
        "# Iterating over dictionary\n",
        "person = {\"name\": \"Alice\", \"age\": 25, \"city\": \"New York\"}\n",
        "for key in person:\n",
        "    print(f\"{key}: {person[key]}\")\n",
        "\n",
        "# Better dictionary iteration\n",
        "for key, value in person.items():\n",
        "    print(f\"{key}: {value}\")"
      ],
      "metadata": {
        "id": "RaVQoF20gcUO"
      },
      "id": "RaVQoF20gcUO",
      "execution_count": null,
      "outputs": []
    },
    {
      "cell_type": "markdown",
      "source": [
        "While Loops\n",
        "\n",
        "While loops continue as long as a condition is true:"
      ],
      "metadata": {
        "id": "l55Uz4qShItS"
      },
      "id": "l55Uz4qShItS"
    },
    {
      "cell_type": "code",
      "source": [
        "# Basic while loop\n",
        "count = 0\n",
        "while count < 5:\n",
        "    print(count)\n",
        "    count += 1\n",
        "\n",
        "# While loop with conditional break\n",
        "number = 0\n",
        "while True:\n",
        "    number += 1\n",
        "    if number > 10:\n",
        "        break\n",
        "    if number % 2 == 0:\n",
        "        print(number)  # Prints only even numbers up to 10"
      ],
      "metadata": {
        "id": "fgKuw-thgwAu"
      },
      "id": "fgKuw-thgwAu",
      "execution_count": null,
      "outputs": []
    },
    {
      "cell_type": "markdown",
      "source": [
        "Loop Control Statements"
      ],
      "metadata": {
        "id": "bJ8HjUo0hUIN"
      },
      "id": "bJ8HjUo0hUIN"
    },
    {
      "cell_type": "code",
      "source": [
        "# break - exits the loop\n",
        "for i in range(10):\n",
        "    if i == 5:\n",
        "        break  # Exit loop when i is 5\n",
        "    print(i)   # Prints 0, 1, 2, 3, 4\n",
        "\n",
        "# continue - skips the current iteration\n",
        "for i in range(10):\n",
        "    if i % 2 == 0:\n",
        "        continue  # Skip even numbers\n",
        "    print(i)      # Prints 1, 3, 5, 7, 9\n",
        "\n",
        "# else clause with loops (executed when loop completes normally)\n",
        "for i in range(5):\n",
        "    print(i)\n",
        "else:\n",
        "    print(\"Loop completed normally\")\n",
        "\n",
        "# else not executed if break is used\n",
        "for i in range(5):\n",
        "    if i == 3:\n",
        "        break\n",
        "    print(i)\n",
        "else:\n",
        "    print(\"This won't print because break was used\")"
      ],
      "metadata": {
        "id": "hHsc6ZvHhayQ"
      },
      "id": "hHsc6ZvHhayQ",
      "execution_count": null,
      "outputs": []
    },
    {
      "cell_type": "markdown",
      "source": [
        "Nested Loops"
      ],
      "metadata": {
        "id": "8EXh3DBeh2H_"
      },
      "id": "8EXh3DBeh2H_"
    },
    {
      "cell_type": "code",
      "source": [
        "# Creating a multiplication table\n",
        "for i in range(1, 5):\n",
        "    for j in range(1, 5):\n",
        "        print(f\"{i} x {j} = {i*j}\")\n",
        "    print(\"-----\")  # Separator between rows\n",
        "\n",
        "# Iterating over nested lists\n",
        "matrix = [[1, 2, 3], [4, 5, 6], [7, 8, 9]]\n",
        "for row in matrix:\n",
        "    for element in row:\n",
        "        print(element, end=\" \")\n",
        "    print()  # New line after each row"
      ],
      "metadata": {
        "id": "bNA-hFTyh_Y7"
      },
      "id": "bNA-hFTyh_Y7",
      "execution_count": null,
      "outputs": []
    },
    {
      "cell_type": "markdown",
      "source": [
        "Common Loop Patterns"
      ],
      "metadata": {
        "id": "Tdbsvu-zivHf"
      },
      "id": "Tdbsvu-zivHf"
    },
    {
      "cell_type": "code",
      "source": [
        "# Finding the maximum value\n",
        "numbers = [4, 9, 2, 7, 5]\n",
        "max_value = numbers[0]\n",
        "for num in numbers:\n",
        "    if num > max_value:\n",
        "        max_value = num\n",
        "print(f\"Maximum: {max_value}\")\n",
        "\n",
        "# Accumulating a sum\n",
        "total = 0\n",
        "for num in numbers:\n",
        "    total += num\n",
        "print(f\"Sum: {total}\")\n",
        "\n",
        "# Filtering elements\n",
        "evens = []\n",
        "for num in numbers:\n",
        "    if num % 2 == 0:\n",
        "        evens.append(num)\n",
        "print(f\"Even numbers: {evens}\")\n",
        "\n",
        "# List comprehension equivalent\n",
        "evens = [num for num in numbers if num % 2 == 0]"
      ],
      "metadata": {
        "id": "KDe9OiEzir86"
      },
      "id": "KDe9OiEzir86",
      "execution_count": null,
      "outputs": []
    },
    {
      "cell_type": "markdown",
      "source": [
        "### Functions & Modules\n",
        "\n",
        "Defining Functions"
      ],
      "metadata": {
        "id": "Uq8l-GQPjAA0"
      },
      "id": "Uq8l-GQPjAA0"
    },
    {
      "cell_type": "code",
      "source": [
        "# Basic function\n",
        "def greet():\n",
        "    print(\"Hello, world!\")\n",
        "\n",
        "# Function with parameters\n",
        "def greet_person(name):\n",
        "    print(f\"Hello, {name}!\")\n",
        "\n",
        "# Function with default parameter\n",
        "def greet_with_message(name, message=\"Good day\"):\n",
        "    print(f\"{message}, {name}!\")\n",
        "\n",
        "# Function that returns a value\n",
        "def add(a, b):\n",
        "    return a + b\n",
        "\n",
        "# Multiple return values (returns a tuple)\n",
        "def get_coordinates():\n",
        "    return (10, 20)\n",
        "\n",
        "# Calling functions\n",
        "greet()                    # Hello, world!\n",
        "greet_person(\"Alice\")      # Hello, Alice!\n",
        "greet_with_message(\"Bob\")  # Good day, Bob!\n",
        "greet_with_message(\"Charlie\", \"Welcome\")  # Welcome, Charlie!\n",
        "sum_result = add(5, 3)     # sum_result = 8\n",
        "x, y = get_coordinates()   # x = 10, y = 20"
      ],
      "metadata": {
        "id": "65rl4xy-i-FK"
      },
      "id": "65rl4xy-i-FK",
      "execution_count": null,
      "outputs": []
    },
    {
      "cell_type": "markdown",
      "source": [
        "Function Parameters"
      ],
      "metadata": {
        "id": "7CxT4KkOkBml"
      },
      "id": "7CxT4KkOkBml"
    },
    {
      "cell_type": "code",
      "source": [
        "# Positional arguments\n",
        "def describe_pet(animal_type, pet_name):\n",
        "    print(f\"I have a {animal_type} named {pet_name}.\")\n",
        "\n",
        "describe_pet(\"dog\", \"Rex\")  # I have a dog named Rex.\n",
        "\n",
        "# Keyword arguments\n",
        "describe_pet(animal_type=\"cat\", pet_name=\"Whiskers\")\n",
        "describe_pet(pet_name=\"Bubbles\", animal_type=\"fish\")  # Order doesn't matter\n",
        "\n",
        "# Mixing positional and keyword arguments\n",
        "describe_pet(\"hamster\", pet_name=\"Fluffy\")  # Positional must come before keyword\n",
        "\n",
        "# Variable number of positional arguments (*args)\n",
        "def add_numbers(*numbers):\n",
        "    return sum(numbers)\n",
        "\n",
        "print(add_numbers(1, 2))        # 3\n",
        "print(add_numbers(1, 2, 3, 4))  # 10\n",
        "\n",
        "# Variable number of keyword arguments (**kwargs)\n",
        "def build_profile(first, last, **user_info):\n",
        "    profile = {\"first_name\": first, \"last_name\": last}\n",
        "    profile.update(user_info)\n",
        "    return profile\n",
        "\n",
        "user = build_profile(\"Albert\", \"Einstein\",\n",
        "                    location=\"Princeton\",\n",
        "                    field=\"Physics\")"
      ],
      "metadata": {
        "id": "KOaU9NIyj_Np"
      },
      "id": "KOaU9NIyj_Np",
      "execution_count": null,
      "outputs": []
    },
    {
      "cell_type": "markdown",
      "source": [
        "Scope"
      ],
      "metadata": {
        "id": "e7Hn8dIwlSAM"
      },
      "id": "e7Hn8dIwlSAM"
    },
    {
      "cell_type": "code",
      "source": [
        "# Local vs. global scope\n",
        "x = 10  # Global variable\n",
        "\n",
        "def my_function():\n",
        "    y = 5   # Local variable\n",
        "    print(x)  # Can access global variable\n",
        "    print(y)  # Can access local variable\n",
        "\n",
        "my_function()\n",
        "# print(y)  # Would raise NameError: y is not defined\n",
        "\n",
        "# Modifying global variables\n",
        "def modify_global():\n",
        "    global x\n",
        "    x = 20  # Modifies the global variable\n",
        "\n",
        "# Nonlocal variables (for nested functions)\n",
        "def outer_function():\n",
        "    z = 15  # Variable in outer function's scope\n",
        "\n",
        "    def inner_function():\n",
        "        nonlocal z\n",
        "        z = 25  # Modifies the variable in the outer function's scope\n",
        "\n",
        "    inner_function()\n",
        "    print(z)  # 25\n",
        "\n",
        "outer_function()"
      ],
      "metadata": {
        "id": "dWN41CwkkzWB"
      },
      "id": "dWN41CwkkzWB",
      "execution_count": null,
      "outputs": []
    },
    {
      "cell_type": "markdown",
      "source": [
        "Importing Modules"
      ],
      "metadata": {
        "id": "gyneuPvwmA4U"
      },
      "id": "gyneuPvwmA4U"
    },
    {
      "cell_type": "code",
      "source": [
        "# Importing an entire module\n",
        "import math\n",
        "print(math.sqrt(16))  # 4.0\n",
        "\n",
        "# Importing specific functions\n",
        "from math import sqrt, pi\n",
        "print(sqrt(16))  # 4.0\n",
        "print(pi)        # 3.141592653589793\n",
        "\n",
        "# Importing with an alias\n",
        "import math as m\n",
        "print(m.sqrt(16))  # 4.0\n",
        "\n",
        "# Importing all functions (not recommended)\n",
        "from math import *\n",
        "print(sqrt(16))  # 4.0"
      ],
      "metadata": {
        "collapsed": true,
        "id": "BAo47Y1zllpQ"
      },
      "id": "BAo47Y1zllpQ",
      "execution_count": null,
      "outputs": []
    },
    {
      "cell_type": "markdown",
      "source": [
        "Creating Your Own Modules"
      ],
      "metadata": {
        "id": "cjCoZW_xmPzU"
      },
      "id": "cjCoZW_xmPzU"
    },
    {
      "cell_type": "code",
      "source": [
        "# In file my_module.py\n",
        "def greet(name):\n",
        "    return f\"Hello, {name}!\"\n",
        "\n",
        "def add(a, b):\n",
        "    return a + b\n",
        "\n",
        "PI = 3.14159\n",
        "\n",
        "# In your main program\n",
        "import my_module\n",
        "print(my_module.greet(\"Alice\"))  # Hello, Alice!\n",
        "print(my_module.PI)              # 3.14159\n",
        "\n",
        "# Or import specific items\n",
        "from my_module import greet, add\n",
        "print(greet(\"Bob\"))  # Hello, Bob!"
      ],
      "metadata": {
        "id": "ITXbrV00mIw5"
      },
      "id": "ITXbrV00mIw5",
      "execution_count": null,
      "outputs": []
    },
    {
      "cell_type": "markdown",
      "source": [
        "### File Handling & Errors\n",
        "\n",
        "File Operations"
      ],
      "metadata": {
        "id": "p643lB6TmYn6"
      },
      "id": "p643lB6TmYn6"
    },
    {
      "cell_type": "code",
      "source": [
        "# Reading a file\n",
        "with open(\"example.txt\", \"r\") as file:\n",
        "    content = file.read()  # Read entire file\n",
        "    print(content)\n",
        "\n",
        "# Reading line by line\n",
        "with open(\"example.txt\", \"r\") as file:\n",
        "    for line in file:\n",
        "        print(line.strip())  # strip() removes newline characters\n",
        "\n",
        "# Writing to a file\n",
        "with open(\"output.txt\", \"w\") as file:\n",
        "    file.write(\"Hello, World!\\n\")\n",
        "    file.write(\"This is a new line.\")\n",
        "\n",
        "# Appending to a file\n",
        "with open(\"output.txt\", \"a\") as file:\n",
        "    file.write(\"\\nAppending more text.\")\n",
        "\n",
        "# Reading and writing binary files\n",
        "with open(\"image.jpg\", \"rb\") as input_file:\n",
        "    with open(\"copy.jpg\", \"wb\") as output_file:\n",
        "        output_file.write(input_file.read())"
      ],
      "metadata": {
        "id": "yX9BZoUcmjYn"
      },
      "id": "yX9BZoUcmjYn",
      "execution_count": null,
      "outputs": []
    },
    {
      "cell_type": "markdown",
      "source": [
        "Context Managers (with statement)\n",
        "\n",
        "The `with` statement automatically handles file closing, even if exceptions occur:"
      ],
      "metadata": {
        "id": "tbt3hi33mn-x"
      },
      "id": "tbt3hi33mn-x"
    },
    {
      "cell_type": "code",
      "source": [
        "# Without with (not recommended)\n",
        "file = open(\"example.txt\", \"r\")\n",
        "try:\n",
        "    content = file.read()\n",
        "finally:\n",
        "    file.close()\n",
        "\n",
        "# With context manager (recommended)\n",
        "with open(\"example.txt\", \"r\") as file:\n",
        "    content = file.read()\n",
        "# File is automatically closed after this block"
      ],
      "metadata": {
        "id": "TDqa_PoXmqv2"
      },
      "id": "TDqa_PoXmqv2",
      "execution_count": null,
      "outputs": []
    },
    {
      "cell_type": "markdown",
      "source": [
        "Exception Handling"
      ],
      "metadata": {
        "id": "JDKitllpm-bU"
      },
      "id": "JDKitllpm-bU"
    },
    {
      "cell_type": "code",
      "source": [
        "# Basic try-except\n",
        "try:\n",
        "    x = 10 / 0  # Raises ZeroDivisionError\n",
        "except:\n",
        "    print(\"An error occurred\")\n",
        "\n",
        "# Catching specific exceptions\n",
        "try:\n",
        "    number = int(\"abc\")  # Raises ValueError\n",
        "except ValueError:\n",
        "    print(\"Invalid conversion to integer\")\n",
        "\n",
        "# Multiple exception types\n",
        "try:\n",
        "    # Code that might raise exceptions\n",
        "    file = open(\"nonexistent.txt\", \"r\")\n",
        "    x = 10 / 0\n",
        "except FileNotFoundError:\n",
        "    print(\"File not found\")\n",
        "except ZeroDivisionError:\n",
        "    print(\"Division by zero\")\n",
        "\n",
        "# Handling multiple exceptions the same way\n",
        "try:\n",
        "    # Code that might raise exceptions\n",
        "    x = 10 / 0\n",
        "except (ZeroDivisionError, ValueError):\n",
        "    print(\"A mathematical error occurred\")\n",
        "\n",
        "# Using else clause (runs if no exception)\n",
        "try:\n",
        "    x = 10 / 2\n",
        "except ZeroDivisionError:\n",
        "    print(\"Division by zero\")\n",
        "else:\n",
        "    print(f\"Result: {x}\")  # This will run\n",
        "\n",
        "# Using finally clause (always runs)\n",
        "try:\n",
        "    x = 10 / 0\n",
        "except ZeroDivisionError:\n",
        "    print(\"Division by zero\")\n",
        "finally:\n",
        "    print(\"This always executes\")"
      ],
      "metadata": {
        "id": "Ep5EZUtlm-wi"
      },
      "id": "Ep5EZUtlm-wi",
      "execution_count": null,
      "outputs": []
    },
    {
      "cell_type": "markdown",
      "source": [
        "Raising Exceptions"
      ],
      "metadata": {
        "id": "HKD52RhgnLsT"
      },
      "id": "HKD52RhgnLsT"
    },
    {
      "cell_type": "code",
      "source": [
        "def set_age(age):\n",
        "    if age < 0:\n",
        "        raise ValueError(\"Age cannot be negative\")\n",
        "    return age\n",
        "\n",
        "try:\n",
        "    set_age(-5)\n",
        "except ValueError as error:\n",
        "    print(error)  # Age cannot be negative\n",
        "\n",
        "# Creating custom exceptions\n",
        "class CustomError(Exception):\n",
        "    def __init__(self, message, code):\n",
        "        self.message = message\n",
        "        self.code = code\n",
        "        super().__init__(self.message)\n",
        "\n",
        "try:\n",
        "    raise CustomError(\"Something went wrong\", 500)\n",
        "except CustomError as error:\n",
        "    print(f\"Error {error.code}: {error.message}\")"
      ],
      "metadata": {
        "id": "c_XcesPTnJNk"
      },
      "id": "c_XcesPTnJNk",
      "execution_count": null,
      "outputs": []
    },
    {
      "cell_type": "markdown",
      "source": [
        "### Debugging\n",
        "\n",
        "Python provides several tools for debugging:"
      ],
      "metadata": {
        "id": "ZyrAf123jPlt"
      },
      "id": "ZyrAf123jPlt"
    },
    {
      "cell_type": "markdown",
      "source": [
        "1. **Print Statements**: Simple but effective"
      ],
      "metadata": {
        "id": "iydwCloBjVn5"
      },
      "id": "iydwCloBjVn5"
    },
    {
      "cell_type": "code",
      "source": [
        "print(f\"Debug: value of x is {x}\")"
      ],
      "metadata": {
        "colab": {
          "base_uri": "https://localhost:8080/"
        },
        "id": "f5Cci3FQjX7A",
        "outputId": "288fc8ac-fd73-449b-f92d-5d1bba224f8e"
      },
      "id": "f5Cci3FQjX7A",
      "execution_count": 58,
      "outputs": [
        {
          "output_type": "stream",
          "name": "stdout",
          "text": [
            "Debug: value of x is 5.0\n"
          ]
        }
      ]
    },
    {
      "cell_type": "markdown",
      "source": [
        "2. **Assert Statements**: Test assumptions"
      ],
      "metadata": {
        "id": "58fCfVIxjdR6"
      },
      "id": "58fCfVIxjdR6"
    },
    {
      "cell_type": "code",
      "source": [
        "assert x > 0, \"x should be positive\""
      ],
      "metadata": {
        "id": "f33tnGDCjiG7"
      },
      "id": "f33tnGDCjiG7",
      "execution_count": 59,
      "outputs": []
    },
    {
      "cell_type": "markdown",
      "source": [
        "3. **Python Debugger (pdb)**:"
      ],
      "metadata": {
        "id": "5DS2Y1iHlsFP"
      },
      "id": "5DS2Y1iHlsFP"
    },
    {
      "cell_type": "code",
      "source": [
        "   import pdb\n",
        "\n",
        "   def complex_function(x):\n",
        "       result = x * 2\n",
        "       pdb.set_trace()  # Debugger will stop here\n",
        "       return result / 0  # This will cause an error"
      ],
      "metadata": {
        "id": "IUMjD6gjjOUs"
      },
      "id": "IUMjD6gjjOUs",
      "execution_count": 60,
      "outputs": []
    },
    {
      "cell_type": "markdown",
      "source": [
        "4. **Logging**:"
      ],
      "metadata": {
        "id": "EDS88J1tl0Gg"
      },
      "id": "EDS88J1tl0Gg"
    },
    {
      "cell_type": "code",
      "source": [
        "   import logging\n",
        "   logging.basicConfig(level=logging.DEBUG)\n",
        "\n",
        "   logging.debug(\"This is a debug message\")\n",
        "   logging.info(\"This is an info message\")\n",
        "   logging.warning(\"This is a warning message\")\n",
        "   logging.error(\"This is an error message\")"
      ],
      "metadata": {
        "id": "H98izah5l0Zo"
      },
      "id": "H98izah5l0Zo",
      "execution_count": null,
      "outputs": []
    },
    {
      "cell_type": "markdown",
      "source": [
        "## Practice Exercises\n",
        "\n",
        "To solidify your understanding, here are some exercises you can try:\n",
        "\n",
        "1. Create a program that takes a list of numbers and returns a new list with only the even numbers.\n",
        "\n",
        "2. Write a function that counts the frequency of each word in a string and returns a dictionary.\n",
        "\n",
        "3. Create a simple address book program that allows adding, viewing, and searching contacts (use dictionaries).\n",
        "\n",
        "4. Read a text file, count the occurrence of each letter, and write the results to a new file.\n",
        "\n",
        "5. Create a simple calculator program that handles various exceptions like division by zero.\n"
      ],
      "metadata": {
        "id": "LzSbUcvHhty0"
      },
      "id": "LzSbUcvHhty0"
    }
  ],
  "metadata": {
    "kernelspec": {
      "display_name": "Python [conda env:base] *",
      "language": "python",
      "name": "conda-base-py"
    },
    "language_info": {
      "codemirror_mode": {
        "name": "ipython",
        "version": 3
      },
      "file_extension": ".py",
      "mimetype": "text/x-python",
      "name": "python",
      "nbconvert_exporter": "python",
      "pygments_lexer": "ipython3",
      "version": "3.12.7"
    },
    "colab": {
      "provenance": []
    }
  },
  "nbformat": 4,
  "nbformat_minor": 5
}